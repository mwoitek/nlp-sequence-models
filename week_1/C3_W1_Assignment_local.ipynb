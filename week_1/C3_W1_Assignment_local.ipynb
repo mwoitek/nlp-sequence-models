{
 "cells": [
  {
   "cell_type": "markdown",
   "metadata": {},
   "source": [
    "# Assignment 1:  Sentiment with Deep Neural Networks\n",
    "\n",
    "Welcome to the first assignment of course 3. In this assignment, you will\n",
    "explore sentiment analysis using deep neural networks.\n",
    "## Outline\n",
    "- [Part 1:  Import libraries and try out Trax](#1)\n",
    "- [Part 2:  Importing the data](#2)\n",
    "    - [2.1  Loading in the data](#2.1)\n",
    "    - [2.2  Building the vocabulary](#2.2)\n",
    "    - [2.3  Converting a tweet to a tensor](#2.3)\n",
    "        - [Exercise 01](#ex01)\n",
    "    - [2.4  Creating a batch generator](#2.4)\n",
    "        - [Exercise 02](#ex02)\n",
    "- [Part 3:  Defining classes](#3)\n",
    "    - [3.1  ReLU class](#3.1)\n",
    "        - [Exercise 03](#ex03)\n",
    "    - [3.2  Dense class ](#3.2)\n",
    "        - [Exercise 04](#ex04)\n",
    "    - [3.3  Model](#3.3)\n",
    "        - [Exercise 05](#ex05)\n",
    "- [Part 4:  Training](#4)\n",
    "    - [4.1  Training the model](#4.1)\n",
    "        - [Exercise 06](#ex06)\n",
    "    - [4.2  Practice Making a prediction](#4.2)\n",
    "- [Part 5:  Evaluation  ](#5)\n",
    "    - [5.1  Computing the accuracy on a batch](#5.1)\n",
    "        - [Exercise 07](#ex07)\n",
    "    - [5.2  Testing your model on Validation Data](#5.2)\n",
    "        - [Exercise 08](#ex08)\n",
    "- [Part 6:  Testing with your own input](#6)\n",
    "\n",
    "In course 1, you implemented Logistic regression and Naive Bayes for sentiment\n",
    "analysis. However if you were to give your old models an example like:\n",
    "\n",
    "<center> <span style='color:blue'> <b>This movie was almost good.</b> </span>\n",
    "</center>\n",
    "\n",
    "Your model would have predicted a positive sentiment for that review. However,\n",
    "that sentence has a negative sentiment and indicates that the movie was not\n",
    "good. To solve those kinds of misclassifications, you will write a program that\n",
    "uses deep neural networks to identify sentiment in text. By completing this\n",
    "assignment, you will:\n",
    "\n",
    "- Understand how you can build/design a model using layers\n",
    "- Train a model using a training loop\n",
    "- Use a binary cross-entropy loss function\n",
    "- Compute the accuracy of your model\n",
    "- Predict using your own input\n",
    "\n",
    "As you can tell, this model follows a similar structure to the one you\n",
    "previously implemented in the second course of this specialization.\n",
    "- Indeed most of the deep nets you will be implementing will have a similar\n",
    "structure. The only thing that changes is the model architecture, the inputs,\n",
    "and the outputs. Before starting the assignment, we will introduce you to the\n",
    "Google library `trax` that we use for building and training models.\n",
    "\n",
    "\n",
    "Now we will show you how to compute the gradient of a certain function `f` by\n",
    "just using `  .grad(f)`.\n",
    "\n",
    "- Trax source code can be found on Github:\n",
    "[Trax](https://github.com/google/trax)\n",
    "- The Trax code also uses the JAX library:\n",
    "[JAX](https://jax.readthedocs.io/en/latest/index.html)\n",
    "\n",
    "<a name=\"1\"></a>\n",
    "# Part 1:  Import libraries and try out Trax\n",
    "\n",
    "- Let's import libraries and look at an example of using the Trax library."
   ]
  },
  {
   "cell_type": "code",
   "execution_count": null,
   "metadata": {},
   "outputs": [],
   "source": [
    "import os\n",
    "import random as rnd\n",
    "import trax\n",
    "import trax.fastmath.numpy as np\n",
    "from trax import layers as tl\n",
    "from utils import Layer, load_tweets, process_tweet\n",
    "# Set random seed to make this notebook easier to replicate:\n",
    "trax.supervised.trainer_lib.init_random_number_generators(31)"
   ]
  },
  {
   "cell_type": "code",
   "execution_count": null,
   "metadata": {},
   "outputs": [],
   "source": [
    "# Create an array using trax.fastmath.numpy:\n",
    "a = np.array(5.0)\n",
    "\n",
    "# View the returned array:\n",
    "display(a)\n",
    "\n",
    "print(type(a))"
   ]
  },
  {
   "cell_type": "markdown",
   "metadata": {},
   "source": [
    "Notice that trax.fastmath.numpy returns a DeviceArray from the jax library."
   ]
  },
  {
   "cell_type": "code",
   "execution_count": null,
   "metadata": {},
   "outputs": [],
   "source": [
    "# Define a function that will use the trax.fastmath.numpy array:\n",
    "def f(x):\n",
    "    # f(x) = x ^ 2\n",
    "    return x ** 2"
   ]
  },
  {
   "cell_type": "code",
   "execution_count": null,
   "metadata": {},
   "outputs": [],
   "source": [
    "print(f'For a = {a}, f(a) = {f(a)}')"
   ]
  },
  {
   "cell_type": "markdown",
   "metadata": {},
   "source": [
    "The gradient (derivative) of function `f` with respect to its input `x` is the\n",
    "derivative of $x^2$.\n",
    "- The derivative of $x^2$ is $2x$.\n",
    "- When x is 5, then $2x=10$.\n",
    "\n",
    "You can calculate the gradient of a function by using `trax.fastmath.grad(fun=)`\n",
    "and passing in the name of the function.\n",
    "- In this case the function you want to take the gradient of is `f`.\n",
    "- The object returned (saved in `grad_f` in this example) is a function that can\n",
    "calculate the gradient of f for a given trax.fastmath.numpy array."
   ]
  },
  {
   "cell_type": "code",
   "execution_count": null,
   "metadata": {},
   "outputs": [],
   "source": [
    "# Use trax.fastmath.grad to calculate the gradient of the function:\n",
    "grad_f = trax.fastmath.grad(fun=f)\n",
    "\n",
    "# View the type of the returned object:\n",
    "type(grad_f)"
   ]
  },
  {
   "cell_type": "code",
   "execution_count": null,
   "metadata": {},
   "outputs": [],
   "source": [
    "# Call the newly created function and pass in a value for x:\n",
    "grad_calculation = grad_f(a)\n",
    "\n",
    "# View the result of calling grad_f:\n",
    "display(grad_calculation)"
   ]
  },
  {
   "cell_type": "markdown",
   "metadata": {},
   "source": [
    "The function returned by trax.fastmath.grad takes in x=5 and calculates the\n",
    "gradient of f, which is 2*x, which is 10. The value is also stored as a\n",
    "DeviceArray from the jax library.\n",
    "\n",
    "<a name=\"2\"></a>\n",
    "# Part 2:  Importing the data\n",
    "\n",
    "<a name=\"2.1\"></a>\n",
    "## 2.1  Loading in the data\n",
    "\n",
    "Import the data set.\n",
    "- You may recognize this from earlier assignments in the specialization.\n",
    "- Details of process_tweet function are available in utils.py file"
   ]
  },
  {
   "cell_type": "code",
   "execution_count": null,
   "metadata": {},
   "outputs": [],
   "source": [
    "import numpy as np\n",
    "\n",
    "# Load positive and negative tweets:\n",
    "all_positive_tweets, all_negative_tweets = load_tweets()\n",
    "\n",
    "# View the total number of positive and negative tweets:\n",
    "print(f'Number of positive tweets: {len(all_positive_tweets)}')\n",
    "print(f'Number of negative tweets: {len(all_negative_tweets)}')\n",
    "\n",
    "# Split positive set into training and validation sets:\n",
    "# Generate training set for positive tweets:\n",
    "train_pos = all_positive_tweets[:4000]\n",
    "# Generate validation set for positive tweets:\n",
    "val_pos = all_positive_tweets[4000:]\n",
    "\n",
    "# Split negative set into training and validation sets:\n",
    "# Generate training set for negative tweets:\n",
    "train_neg = all_negative_tweets[:4000]\n",
    "# Generate validation set for negative tweets:\n",
    "val_neg = all_negative_tweets[4000:]\n",
    "\n",
    "# Combine training data into one set:\n",
    "train_x = train_pos + train_neg\n",
    "# Combine validation data into one set:\n",
    "val_x = val_pos + val_neg\n",
    "\n",
    "# Set the labels for the training set (1 for positive, 0 for negative):\n",
    "train_y = np.append(np.ones(len(train_pos)), np.zeros(len(train_neg)))\n",
    "# Set the labels for the validation set (1 for positive, 0 for negative):\n",
    "val_y = np.append(np.ones(len(val_pos)), np.zeros(len(val_neg)))\n",
    "\n",
    "print(f'Length of train_x: {len(train_x)}')\n",
    "print(f'Length of val_x: {len(val_x)}')"
   ]
  },
  {
   "cell_type": "markdown",
   "metadata": {},
   "source": [
    "Now import a function that processes tweets (we've provided this in the utils.py\n",
    "file).\n",
    "- process_tweets' removes unwanted characters e.g. hashtag, hyperlinks, stock\n",
    "tickers from tweet.\n",
    "- It also returns a list of words (it tokenizes the original string)."
   ]
  },
  {
   "cell_type": "code",
   "execution_count": null,
   "metadata": {},
   "outputs": [],
   "source": [
    "# Try out the function that processes tweets:\n",
    "\n",
    "print('Original tweet train_pos[0]:')\n",
    "print(train_pos[0])\n",
    "\n",
    "print('Tweet train_pos[0] after processing:')\n",
    "process_tweet(train_pos[0])"
   ]
  },
  {
   "cell_type": "markdown",
   "metadata": {},
   "source": [
    "Notice that the function `process_tweet` keeps key words, removes the hash #\n",
    "symbol, and ignores usernames (words that begin with '@').  It also returns a\n",
    "list of the words.\n",
    "\n",
    "<a name=\"2.2\"></a>\n",
    "## 2.2  Building the vocabulary\n",
    "\n",
    "Now build the vocabulary.\n",
    "- Map each word in each tweet to an integer (an \"index\").\n",
    "- The following code does this for you, but please read it and understand what\n",
    "it's doing.\n",
    "- Note that you will build the vocabulary based on the training data.\n",
    "- To do so, you will assign an index to everyword by iterating over your\n",
    "training set.\n",
    "\n",
    "The vocabulary will also include some special tokens\n",
    "- `__PAD__`: padding\n",
    "- `</e>`: end of line\n",
    "- `__UNK__`: a token representing any word that is not in the vocabulary."
   ]
  },
  {
   "cell_type": "code",
   "execution_count": null,
   "metadata": {},
   "outputs": [],
   "source": [
    "# Build the vocabulary:\n",
    "\n",
    "# Include special tokens:\n",
    "Vocab = {\n",
    "    '__PAD__': 0,\n",
    "    '__</e>__': 1,\n",
    "    '__UNK__': 2\n",
    "}\n",
    "\n",
    "# Build Vocab using training data:\n",
    "for tweet in train_x:\n",
    "    processed_tweet = process_tweet(tweet)\n",
    "    for word in processed_tweet:\n",
    "        if word not in Vocab:\n",
    "            Vocab[word] = len(Vocab)\n",
    "\n",
    "print(f'Number of words in Vocab: {len(Vocab)}')\n",
    "display(Vocab)"
   ]
  },
  {
   "cell_type": "markdown",
   "metadata": {},
   "source": [
    "The dictionary `Vocab` will look like this:"
   ]
  },
  {
   "cell_type": "code",
   "execution_count": null,
   "metadata": {
    "attributes": {
     "classes": [
      "CPP"
     ],
     "id": ""
    }
   },
   "outputs": [],
   "source": [
    "{'__PAD__': 0,\n",
    " '__</e>__': 1,\n",
    " '__UNK__': 2,\n",
    " 'followfriday': 3,\n",
    " 'top': 4,\n",
    " 'engag': 5,\n",
    " ..."
   ]
  },
  {
   "cell_type": "markdown",
   "metadata": {},
   "source": [
    "- Each unique word has a unique integer associated with it.\n",
    "- The total number of words in Vocab: 9088\n",
    "\n",
    "<a name=\"2.3\"></a>\n",
    "## 2.3  Converting a tweet to a tensor\n",
    "\n",
    "Write a function that will convert each tweet to a tensor (a list of unique\n",
    "integer IDs representing the processed tweet).\n",
    "- Note, the returned data type will be a **regular Python `list()`**\n",
    "    - You won't use TensorFlow in this function\n",
    "    - You also won't use a numpy array\n",
    "    - You also won't use trax.fastmath.numpy array\n",
    "- For words in the tweet that are not in the vocabulary, set them to the unique\n",
    "ID for the token `__UNK__`.\n",
    "\n",
    "##### Example\n",
    "Input a tweet:"
   ]
  },
  {
   "cell_type": "code",
   "execution_count": null,
   "metadata": {
    "attributes": {
     "classes": [
      "CPP"
     ],
     "id": ""
    }
   },
   "outputs": [],
   "source": [
    "'@happypuppy, is Maria happy?'"
   ]
  },
  {
   "cell_type": "markdown",
   "metadata": {},
   "source": [
    "The tweet_to_tensor will first conver the tweet into a list of tokens (including\n",
    "only relevant words)"
   ]
  },
  {
   "cell_type": "code",
   "execution_count": null,
   "metadata": {
    "attributes": {
     "classes": [
      "CPP"
     ],
     "id": ""
    }
   },
   "outputs": [],
   "source": [
    "['maria', 'happi']"
   ]
  },
  {
   "cell_type": "markdown",
   "metadata": {},
   "source": [
    "Then it will convert each word into its unique integer"
   ]
  },
  {
   "cell_type": "code",
   "execution_count": null,
   "metadata": {
    "attributes": {
     "classes": [
      "CPP"
     ],
     "id": ""
    }
   },
   "outputs": [],
   "source": [
    "[2, 56]"
   ]
  },
  {
   "cell_type": "markdown",
   "metadata": {},
   "source": [
    "- Notice that the word \"maria\" is not in the vocabulary, so it is assigned the\n",
    "unique integer associated with the `__UNK__` token, because it is considered\n",
    "\"unknown.\"\n",
    "\n",
    "\n",
    "<a name=\"ex01\"></a>\n",
    "### Exercise 01\n",
    "**Instructions:** Write a program `tweet_to_tensor` that takes in a tweet and\n",
    "converts it to an array of numbers. You can use the `Vocab` dictionary you just\n",
    "found to help create the tensor.\n",
    "\n",
    "- Use the vocab_dict parameter and not a global variable.\n",
    "- Do not hard code the integer value for the `__UNK__` token.\n",
    "\n",
    "<details>\n",
    "<summary>\n",
    "    <font size=\"3\" color=\"darkgreen\"><b>Hints</b></font>\n",
    "</summary>\n",
    "<p>\n",
    "<ul>\n",
    "    <li>Map each word in tweet to corresponding token in 'Vocab'</li>\n",
    "    <li>Use Python's Dictionary.get(key,value) so that the function returns a\n",
    "default value if the key is not found in the dictionary.</li>\n",
    "</ul>\n",
    "</p>"
   ]
  },
  {
   "cell_type": "code",
   "execution_count": null,
   "metadata": {},
   "outputs": [],
   "source": [
    "# UNQ_C1 (UNIQUE CELL IDENTIFIER, DO NOT EDIT)\n",
    "# GRADED FUNCTION: tweet_to_tensor\n",
    "def tweet_to_tensor(tweet, vocab_dict, unk_token='__UNK__', verbose=False):\n",
    "    \"\"\"\n",
    "    Arguments:\n",
    "    tweet: String containing a tweet.\n",
    "    vocab_dict: Dictionary containing the vocabulary.\n",
    "    unk_token: Special token for out-of-vocabulary words.\n",
    "    verbose: True to print information during runtime.\n",
    "\n",
    "    Returns:\n",
    "    tensor_l: List of IDs representing the tweet.\n",
    "    \"\"\"\n",
    "\n",
    "    # Process the tweet into a list of words:\n",
    "    word_l = process_tweet(tweet)\n",
    "\n",
    "    if verbose:\n",
    "        print('List of words from the processed tweet:')\n",
    "        print(word_l)\n",
    "\n",
    "    # Initialize tensor_l:\n",
    "    tensor_l = []\n",
    "\n",
    "    # Get the ID of the '__UNK__' token:\n",
    "    unk_ID = vocab_dict[unk_token]\n",
    "\n",
    "    if verbose:\n",
    "        print(f'The unique integer ID for unk_token is {unk_ID}')\n",
    "\n",
    "    # For each word in the list:\n",
    "    for word in word_l:\n",
    "\n",
    "        # Get the ID. If the word doesn't exist in the vocabulary, use unk_ID.\n",
    "        word_ID = vocab_dict.get(word, unk_ID)\n",
    "\n",
    "        # Append the ID to the tensor list:\n",
    "        tensor_l.append(word_ID)\n",
    "\n",
    "    return tensor_l"
   ]
  },
  {
   "cell_type": "code",
   "execution_count": null,
   "metadata": {},
   "outputs": [],
   "source": [
    "print('The tweet is')\n",
    "print(val_pos[0])\n",
    "print()\n",
    "print('Tensor corresponding to this tweet:')\n",
    "print(tweet_to_tensor(val_pos[0], vocab_dict=Vocab))"
   ]
  },
  {
   "cell_type": "markdown",
   "metadata": {},
   "source": [
    "##### Expected output"
   ]
  },
  {
   "cell_type": "code",
   "execution_count": null,
   "metadata": {
    "attributes": {
     "classes": [
      "CPP"
     ],
     "id": ""
    }
   },
   "outputs": [],
   "source": [
    "Actual tweet is\n",
    " Bro:U wan cut hair anot,ur hair long Liao bo\n",
    "Me:since ord liao,take it easy lor treat as save $ leave it longer :)\n",
    "Bro:LOL Sibei xialan\n",
    "\n",
    "Tensor of tweet:\n",
    " [1065, 136, 479, 2351, 745, 8148, 1123, 745, 53, 2, 2672, 791, 2, 2, 349, 601,\n",
    "2, 3489, 1017, 597, 4559, 9, 1065, 157, 2, 2]"
   ]
  },
  {
   "cell_type": "code",
   "execution_count": null,
   "metadata": {},
   "outputs": [],
   "source": [
    "# Test tweet_to_tensor:\n",
    "\n",
    "def test_tweet_to_tensor():\n",
    "    test_cases = [\n",
    "        {\n",
    "            'name': 'simple_test_check',\n",
    "            'input': [val_pos[1], Vocab],\n",
    "            'expected': [444, 2, 304, 567, 56, 9],\n",
    "            'error': 'The function gives bad output for val_pos[1]. Test failed'\n",
    "        },\n",
    "        {\n",
    "            'name': 'datatype_check',\n",
    "            'input': [val_pos[1], Vocab],\n",
    "            'expected': type([]),\n",
    "            'error': 'Datatype mismatch. Need only list not np.array'\n",
    "        },\n",
    "        {\n",
    "            'name': 'without_unk_check',\n",
    "            'input': [val_pos[1], Vocab],\n",
    "            'expected': 6,\n",
    "            'error': 'Unk word check not done- Please check if you included mapping for unknown word'\n",
    "        }\n",
    "    ]\n",
    "\n",
    "    count = 0\n",
    "    for test_case in test_cases:\n",
    "        try:\n",
    "            if test_case['name'] == 'simple_test_check':\n",
    "                assert test_case['expected'] == tweet_to_tensor(*test_case['input'])\n",
    "                count += 1\n",
    "            if test_case['name'] == 'datatype_check':\n",
    "                assert isinstance(tweet_to_tensor(*test_case['input']), test_case['expected'])\n",
    "                count += 1\n",
    "            if test_case['name'] == 'without_unk_check':\n",
    "                assert None not in tweet_to_tensor(*test_case['input'])\n",
    "                count += 1\n",
    "        except:\n",
    "            print(test_case['error'])\n",
    "\n",
    "    if count == 3:\n",
    "        print('All tests passed')\n",
    "    else:\n",
    "        print(f'{count} tests passed out of 3')\n",
    "\n",
    "test_tweet_to_tensor()"
   ]
  },
  {
   "cell_type": "markdown",
   "metadata": {},
   "source": [
    "<a name=\"2.4\"></a>\n",
    "## 2.4  Creating a batch generator\n",
    "\n",
    "Most of the time in Natural Language Processing, and AI in general we use\n",
    "batches when training our data sets.\n",
    "- If instead of training with batches of examples, you were to train a model\n",
    "with one example at a time, it would take a very long time to train the model.\n",
    "- You will now build a data generator that takes in the positive/negative tweets\n",
    "and returns a batch of training examples. It returns the model inputs, the\n",
    "targets (positive or negative labels) and the weight for each target (ex: this\n",
    "allows us to can treat some examples as more important to get right than others,\n",
    "but commonly this will all be 1.0).\n",
    "\n",
    "Once you create the generator, you could include it in a for loop"
   ]
  },
  {
   "cell_type": "code",
   "execution_count": null,
   "metadata": {
    "attributes": {
     "classes": [
      "CPP"
     ],
     "id": ""
    }
   },
   "outputs": [],
   "source": [
    "for batch_inputs, batch_targets, batch_example_weights in data_generator:\n",
    "    ..."
   ]
  },
  {
   "cell_type": "markdown",
   "metadata": {},
   "source": [
    "You can also get a single batch like this:"
   ]
  },
  {
   "cell_type": "code",
   "execution_count": null,
   "metadata": {
    "attributes": {
     "classes": [
      "CPP"
     ],
     "id": ""
    }
   },
   "outputs": [],
   "source": [
    "batch_inputs, batch_targets, batch_example_weights = next(data_generator)"
   ]
  },
  {
   "cell_type": "markdown",
   "metadata": {},
   "source": [
    "The generator returns the next batch each time it's called.\n",
    "- This generator returns the data in a format (tensors) that you could directly\n",
    "use in your model.\n",
    "- It returns a triple: the inputs, targets, and loss weights:\n",
    "-- Inputs is a tensor that contains the batch of tweets we put into the model.\n",
    "-- Targets is the corresponding batch of labels that we train to generate.\n",
    "-- Loss weights here are just 1s with same shape as targets. Next week, you will\n",
    "use it to mask input padding.\n",
    "\n",
    "<a name=\"ex02\"></a>\n",
    "### Exercise 02\n",
    "Implement `data_generator`."
   ]
  },
  {
   "cell_type": "code",
   "execution_count": null,
   "metadata": {},
   "outputs": [],
   "source": [
    "# UNQ_C2 (UNIQUE CELL IDENTIFIER, DO NOT EDIT)\n",
    "# GRADED: Data generator\n",
    "def data_generator(data_pos, data_neg, batch_size, loop, vocab_dict, shuffle=False):\n",
    "    \"\"\"\n",
    "    Arguments:\n",
    "    data_pos: Set of positive examples.\n",
    "    data_neg: Set of negative examples.\n",
    "    batch_size: Number of samples per batch (must be EVEN).\n",
    "    loop: True to keep reusing the data.\n",
    "    vocab_dict: Dictionary containing the vocabulary.\n",
    "    shuffle: True to shuffle the data.\n",
    "\n",
    "    Returns:\n",
    "    inputs: Subset of positive and negative examples.\n",
    "    targets: Corresponding labels for the subset.\n",
    "    example_weights: Array specifying the importance of each example.\n",
    "    \"\"\"\n",
    "\n",
    "    # Make sure the batch size is an even number to allow an equal number of\n",
    "    # positive and negative samples:\n",
    "    assert batch_size % 2 == 0\n",
    "\n",
    "    # Number of positive/negative examples in each batch is half of the batch size.\n",
    "    n_to_take = batch_size // 2\n",
    "\n",
    "    # Use pos_index to walk through data_pos:\n",
    "    pos_index = 0\n",
    "    # Use neg_index to walk through data_neg:\n",
    "    neg_index = 0\n",
    "\n",
    "    len_data_pos = len(data_pos)\n",
    "    len_data_neg = len(data_neg)\n",
    "\n",
    "    # Get lists with data indexes:\n",
    "    pos_index_lines = list(range(len_data_pos))\n",
    "    neg_index_lines = list(range(len_data_neg))\n",
    "\n",
    "    # Shuffle lines if 'shuffle' is set to True:\n",
    "    if shuffle:\n",
    "        rnd.shuffle(pos_index_lines)\n",
    "        rnd.shuffle(neg_index_lines)\n",
    "\n",
    "    stop = False\n",
    "\n",
    "    while not stop:\n",
    "\n",
    "        # Create a batch with positive and negative examples:\n",
    "        batch = []\n",
    "\n",
    "        # Pack n_to_take positive examples:\n",
    "\n",
    "        # Start from pos_index and increment i up to n_to_take - 1:\n",
    "        for i in range(n_to_take):\n",
    "\n",
    "            # If the positive index goes past the positive set length:\n",
    "            if pos_index >= len_data_pos:\n",
    "\n",
    "                # If 'loop' is set to False, break once we reach the end of the set:\n",
    "                if not loop:\n",
    "                    stop = True\n",
    "                    break\n",
    "\n",
    "                # If the user wants to keep reusing the data, reset the index:\n",
    "                pos_index = 0\n",
    "\n",
    "                # If 'shuffle' is set to True, shuffle the index of the positive sample:\n",
    "                if shuffle:\n",
    "                    rnd.shuffle(pos_index_lines)\n",
    "\n",
    "            # Get the tweet using pos_index:\n",
    "            tweet = data_pos[pos_index_lines[pos_index]]\n",
    "\n",
    "            # Convert the tweet into an integer tensor representing the processed words:\n",
    "            tensor = tweet_to_tensor(tweet, vocab_dict)\n",
    "\n",
    "            # Append the tensor to the batch list:\n",
    "            batch.append(tensor)\n",
    "\n",
    "            # Increment pos_index:\n",
    "            pos_index += 1\n",
    "\n",
    "        # Pack n_to_take negative examples:\n",
    "\n",
    "        # Start from neg_index and increment i up to n_to_take - 1:\n",
    "        for i in range(n_to_take):\n",
    "\n",
    "            # If the negative index goes past the negative set length:\n",
    "            if neg_index >= len_data_neg:\n",
    "\n",
    "                # If 'loop' is set to False, break once we reach the end of the set:\n",
    "                if not loop:\n",
    "                    stop = True\n",
    "                    break\n",
    "\n",
    "                # If the user wants to keep reusing the data, reset the index:\n",
    "                neg_index = 0\n",
    "\n",
    "                # If 'shuffle' is set to True, shuffle the index of the negative sample:\n",
    "                if shuffle:\n",
    "                    rnd.shuffle(neg_index_lines)\n",
    "\n",
    "            # Get the tweet using neg_index:\n",
    "            tweet = data_neg[neg_index_lines[neg_index]]\n",
    "\n",
    "            # Convert the tweet into an integer tensor representing the processed words:\n",
    "            tensor = tweet_to_tensor(tweet, vocab_dict)\n",
    "\n",
    "            # Append the tensor to the batch list:\n",
    "            batch.append(tensor)\n",
    "\n",
    "            # Increment neg_index:\n",
    "            neg_index += 1\n",
    "\n",
    "        if stop:\n",
    "            break\n",
    "\n",
    "        # Update the start index for positive data so that it's n_to_take\n",
    "        # positions after the current pos_index:\n",
    "        pos_index += n_to_take\n",
    "\n",
    "        # Update the start index for negative data so that it's n_to_take\n",
    "        # positions after the current neg_index:\n",
    "        neg_index += n_to_take\n",
    "\n",
    "        # Get the length of the longest tweet. We will pad all shorter tweets\n",
    "        # to have this length.\n",
    "        max_len = max([len(t) for t in batch])\n",
    "\n",
    "        # Initialize tensor_pad_l, which will store the padded versions of the tensors:\n",
    "        tensor_pad_l = []\n",
    "\n",
    "        # Pad shorter tweets with zeros:\n",
    "        for tensor in batch:\n",
    "\n",
    "            # For this tensor, get the number of positions to pad:\n",
    "            n_pad = max_len - len(tensor)\n",
    "\n",
    "            # Generate a list of zeros with length n_pad:\n",
    "            pad_l = n_pad * [0]\n",
    "\n",
    "            # Concatenate tensor and the list of zeros:\n",
    "            tensor_pad = tensor + pad_l\n",
    "\n",
    "            # Append the padded tensor to the list of padded tensors:\n",
    "            tensor_pad_l.append(tensor_pad)\n",
    "\n",
    "        # Convert the list of padded tensors to a numpy array.\n",
    "        # Store as the model inputs.\n",
    "        inputs = np.array(tensor_pad_l)\n",
    "\n",
    "        # Generate the list of targets for the positive examples (a list of ones).\n",
    "        # The length is the number of positive examples in the batch.\n",
    "        target_pos = n_to_take * [1]\n",
    "\n",
    "        # Generate the list of targets for the negative examples (a list of zeros).\n",
    "        # The length is the number of negative examples in the batch.\n",
    "        target_neg = n_to_take * [0]\n",
    "\n",
    "        # Concatenate positive and negative targets:\n",
    "        target_l = target_pos + target_neg\n",
    "\n",
    "        # Convert the target list to a numpy array:\n",
    "        targets = np.array(target_l)\n",
    "\n",
    "        # Example weights. Treat all examples equally.\n",
    "        example_weights = np.ones_like(targets)\n",
    "\n",
    "        # Use 'yield' and not 'return':\n",
    "        yield inputs, targets, example_weights"
   ]
  },
  {
   "cell_type": "markdown",
   "metadata": {},
   "source": [
    "Now you can use your data generator to create a data generator for the training\n",
    "data, and another data generator for the validation data.\n",
    "\n",
    "We will create a third data generator that does not loop, for testing the final\n",
    "accuracy of the model."
   ]
  },
  {
   "cell_type": "code",
   "execution_count": null,
   "metadata": {},
   "outputs": [],
   "source": [
    "# Set the random seed for the shuffle procedure:\n",
    "rnd.seed(30)\n",
    "\n",
    "# Create the training data generator:\n",
    "def train_generator(batch_size, shuffle=False):\n",
    "    return data_generator(train_pos, train_neg, batch_size, True, Vocab, shuffle)\n",
    "\n",
    "# Create a validation data generator:\n",
    "def val_generator(batch_size, shuffle=False):\n",
    "    return data_generator(val_pos, val_neg, batch_size, True, Vocab, shuffle)\n",
    "\n",
    "# Create another validation data generator:\n",
    "def test_generator(batch_size, shuffle=False):\n",
    "    return data_generator(val_pos, val_neg, batch_size, False, Vocab, shuffle)\n",
    "\n",
    "# Get a batch from the train_generator:\n",
    "inputs, targets, example_weights = next(train_generator(4, shuffle=True))\n",
    "\n",
    "# Print a list of tensors padded with zeros:\n",
    "print(f'inputs: {inputs}')\n",
    "print(f'targets: {targets}')\n",
    "print(f'example_weights: {example_weights}')"
   ]
  },
  {
   "cell_type": "code",
   "execution_count": null,
   "metadata": {},
   "outputs": [],
   "source": [
    "# Test train_generator:\n",
    "\n",
    "# Create a data generator for training data:\n",
    "tmp_data_gen = train_generator(batch_size=4)\n",
    "\n",
    "# Call the data generator to get one batch:\n",
    "tmp_inputs, tmp_targets, tmp_example_weights = next(tmp_data_gen)\n",
    "\n",
    "print(f'inputs.shape = {tmp_inputs.shape}')\n",
    "print(f'targets.shape = {tmp_targets.shape}')\n",
    "print(f'example_weights.shape = {tmp_example_weights.shape}')\n",
    "\n",
    "for i, t in enumerate(tmp_inputs):\n",
    "    print(f'input: {t}')\n",
    "    print(f'target: {tmp_targets[i]}')\n",
    "    print(f'example weights: {tmp_example_weights[i]}')"
   ]
  },
  {
   "cell_type": "markdown",
   "metadata": {},
   "source": [
    "##### Expected output"
   ]
  },
  {
   "cell_type": "code",
   "execution_count": null,
   "metadata": {
    "attributes": {
     "classes": [
      "CPP"
     ],
     "id": ""
    }
   },
   "outputs": [],
   "source": [
    "The inputs shape is (4, 14)\n",
    "The targets shape is (4,)\n",
    "The example weights shape is (4,)\n",
    "input tensor: [3 4 5 6 7 8 9 0 0 0 0 0 0 0]; target 1; example weights 1\n",
    "input tensor: [10 11 12 13 14 15 16 17 18 19 20  9 21 22]; target 1; example\n",
    "weights 1\n",
    "input tensor: [5738 2901 3761    0    0    0    0    0    0    0    0    0    0\n",
    "0]; target 0; example weights 1\n",
    "input tensor: [ 858  256 3652 5739  307 4458  567 1230 2767  328 1202 3761    0\n",
    "0]; target 0; example weights 1"
   ]
  },
  {
   "cell_type": "markdown",
   "metadata": {},
   "source": [
    "Now that you have your train/val generators, you can just call them and they\n",
    "will return tensors which correspond to your tweets in the first column and\n",
    "their corresponding labels in the second column. Now you can go ahead and start\n",
    "building your neural network.\n",
    "\n",
    "<a name=\"3\"></a>\n",
    "# Part 3:  Defining classes\n",
    "\n",
    "In this part, you will write your own library of layers. It will be very similar\n",
    "to the one used in Trax and also in Keras and PyTorch. Writing your own small\n",
    "framework will help you understand how they all work and use them effectively\n",
    "in the future.\n",
    "\n",
    "Your framework will be based on the following `Layer` class from utils.py."
   ]
  },
  {
   "cell_type": "code",
   "execution_count": null,
   "metadata": {
    "attributes": {
     "classes": [
      "CPP"
     ],
     "id": ""
    }
   },
   "outputs": [],
   "source": [
    "class Layer(object):\n",
    "    \"\"\" Base class for layers.\n",
    "    \"\"\"\n",
    "\n",
    "    # Constructor\n",
    "    def __init__(self):\n",
    "        # set weights to None\n",
    "        self.weights = None\n",
    "\n",
    "    # The forward propagation should be implemented\n",
    "    # by subclasses of this Layer class\n",
    "    def forward(self, x):\n",
    "        raise NotImplementedError\n",
    "\n",
    "    # This function initializes the weights\n",
    "    # based on the input signature and random key,\n",
    "    # should be implemented by subclasses of this Layer class\n",
    "    def init_weights_and_state(self, input_signature, random_key):\n",
    "        pass\n",
    "\n",
    "    # This initializes and returns the weights, do not override.\n",
    "    def init(self, input_signature, random_key):\n",
    "        self.init_weights_and_state(input_signature, random_key)\n",
    "        return self.weights\n",
    "\n",
    "    # __call__ allows an object of this class\n",
    "    # to be called like it's a function.\n",
    "    def __call__(self, x):\n",
    "        # When this layer object is called,\n",
    "        # it calls its forward propagation function\n",
    "        return self.forward(x)"
   ]
  },
  {
   "cell_type": "markdown",
   "metadata": {},
   "source": [
    "<a name=\"3.1\"></a>\n",
    "## 3.1  ReLU class\n",
    "You will now implement the ReLU activation function in a class below. The ReLU\n",
    "function looks as follows:\n",
    "<img src = \"relu.jpg\" style=\"width:300px;height:150px;\"/>\n",
    "\n",
    "$$ \\mathrm{ReLU}(x) = \\mathrm{max}(0,x) $$\n",
    "\n",
    "<a name=\"ex03\"></a>\n",
    "### Exercise 03\n",
    "**Instructions:** Implement the ReLU activation function below. Your function\n",
    "should take in a matrix or vector and it should transform all the negative\n",
    "numbers into 0 while keeping all the positive numbers intact.\n",
    "\n",
    "<details>\n",
    "<summary>\n",
    "    <font size=\"3\" color=\"darkgreen\"><b>Hints</b></font>\n",
    "</summary>\n",
    "<p>\n",
    "<ul>\n",
    "    <li>Please use numpy.maximum(A,k) to find the maximum between each element\n",
    "in A and a scalar k</li>\n",
    "</ul>\n",
    "</p>"
   ]
  },
  {
   "cell_type": "code",
   "execution_count": null,
   "metadata": {},
   "outputs": [],
   "source": [
    "# UNQ_C3 (UNIQUE CELL IDENTIFIER, DO NOT EDIT)\n",
    "# GRADED FUNCTION: Relu\n",
    "class Relu(Layer):\n",
    "    \"\"\"ReLU activation function.\"\"\"\n",
    "\n",
    "    def forward(self, x):\n",
    "        \"\"\"\n",
    "        Arguments:\n",
    "        x: numpy array, input.\n",
    "\n",
    "        Returns:\n",
    "        activation: numpy array, ReLU(x).\n",
    "        \"\"\"\n",
    "\n",
    "        activation = np.maximum(x, 0)\n",
    "\n",
    "        return activation"
   ]
  },
  {
   "cell_type": "code",
   "execution_count": null,
   "metadata": {},
   "outputs": [],
   "source": [
    "# Test the function:\n",
    "x = np.array([[-2, -1, 0], [0, 1, 2]], dtype=float)\n",
    "relu_layer = Relu()\n",
    "print(f'x = {x}')\n",
    "print(f'relu_layer(x) = {relu_layer(x)}')"
   ]
  },
  {
   "cell_type": "markdown",
   "metadata": {},
   "source": [
    "##### Expected Outout"
   ]
  },
  {
   "cell_type": "code",
   "execution_count": null,
   "metadata": {
    "attributes": {
     "classes": [
      "CPP"
     ],
     "id": ""
    }
   },
   "outputs": [],
   "source": [
    "Test data is:\n",
    "[[-2. -1.  0.]\n",
    " [ 0.  1.  2.]]\n",
    "Output of Relu is:\n",
    "[[0. 0. 0.]\n",
    " [0. 1. 2.]]"
   ]
  },
  {
   "cell_type": "markdown",
   "metadata": {},
   "source": [
    "<a name=\"3.2\"></a>\n",
    "## 3.2  Dense class\n",
    "\n",
    "### Exercise\n",
    "\n",
    "Implement the forward function of the Dense class.\n",
    "- The forward function multiplies the input to the layer (`x`) by the weight\n",
    "matrix (`W`)\n",
    "\n",
    "$$\\mathrm{forward}(\\mathbf{x},\\mathbf{W}) = \\mathbf{xW} $$\n",
    "\n",
    "- You can use `numpy.dot` to perform the matrix multiplication.\n",
    "\n",
    "Note that for more efficient code execution, you will use the trax version of\n",
    "`math`, which includes a trax version of `numpy` and also `random`.\n",
    "\n",
    "Implement the weight initializer `new_weights` function\n",
    "- Weights are initialized with a random key.\n",
    "- The second parameter is a tuple for the desired shape of the weights\n",
    "(num_rows, num_cols)\n",
    "- The num of rows for weights should equal the number of columns in x, because\n",
    "for forward propagation, you will multiply x times weights.\n",
    "\n",
    "Please use `trax.fastmath.random.normal(key, shape, dtype=tf.float32)` to\n",
    "generate random values for the weight matrix. The key difference between this\n",
    "function\n",
    "and the standard `numpy` randomness is the explicit use of random keys, which\n",
    "need to be passed. While it can look tedious at the first sight to pass the\n",
    "random key everywhere, you will learn in Course 4 why this is very helpful when\n",
    "implementing some advanced models.\n",
    "- `key` can be generated by calling `random.get_prng(seed=)` and passing in a\n",
    "number for the `seed`.\n",
    "- `shape` is a tuple with the desired shape of the weight matrix.\n",
    "    - The number of rows in the weight matrix should equal the number of columns\n",
    "in the variable `x`.  Since `x` may have 2 dimensions if it reprsents a single\n",
    "training example (row, col), or three dimensions (batch_size, row, col), get the\n",
    "last dimension from the tuple that holds the dimensions of x.\n",
    "    - The number of columns in the weight matrix is the number of units chosen\n",
    "for that dense layer.  Look at the `__init__` function to see which variable\n",
    "stores the number of units.\n",
    "- `dtype` is the data type of the values in the generated matrix; keep the\n",
    "default of `tf.float32`. In this case, don't explicitly set the dtype (just let\n",
    "it use the default value).\n",
    "\n",
    "Set the standard deviation of the random values to 0.1\n",
    "- The values generated have a mean of 0 and standard deviation of 1.\n",
    "- Set the default standard deviation `stdev` to be 0.1 by multiplying the\n",
    "standard deviation to each of the values in the weight matrix."
   ]
  },
  {
   "cell_type": "code",
   "execution_count": null,
   "metadata": {},
   "outputs": [],
   "source": [
    "# Use the fastmath module within trax:\n",
    "from trax import fastmath\n",
    "\n",
    "# Use the numpy module from trax:\n",
    "np = fastmath.numpy\n",
    "\n",
    "# Use the fastmath.random module from trax:\n",
    "random = fastmath.random"
   ]
  },
  {
   "cell_type": "code",
   "execution_count": null,
   "metadata": {},
   "outputs": [],
   "source": [
    "# See how fastmath.trax.random.normal works:\n",
    "\n",
    "tmp_key = random.get_prng(seed=1)\n",
    "print('Random seed generated by random.get_prng:')\n",
    "display(tmp_key)\n",
    "\n",
    "print('Choose a matrix with 2 rows and 3 columns:')\n",
    "tmp_shape = (2, 3)\n",
    "display(tmp_shape)\n",
    "\n",
    "# Generate a weight matrix:\n",
    "tmp_weight = trax.fastmath.random.normal(key=tmp_key, shape=tmp_shape)\n",
    "print('Weight matrix generated with a normal distribution (mean 0, stdev 1):')\n",
    "display(tmp_weight)"
   ]
  },
  {
   "cell_type": "markdown",
   "metadata": {},
   "source": [
    "<a name=\"ex04\"></a>\n",
    "### Exercise 04\n",
    "\n",
    "Implement the `Dense` class."
   ]
  },
  {
   "cell_type": "code",
   "execution_count": null,
   "metadata": {},
   "outputs": [],
   "source": [
    "# UNQ_C4 (UNIQUE CELL IDENTIFIER, DO NOT EDIT)\n",
    "# GRADED FUNCTION: Dense\n",
    "class Dense(Layer):\n",
    "    \"\"\"A dense (fully-connected) layer.\"\"\"\n",
    "\n",
    "    def __init__(self, n_units, init_stdev=0.1):\n",
    "\n",
    "        # Set the number of units in this layer:\n",
    "        self._n_units = n_units\n",
    "\n",
    "        # Set the standard deviation for random initialization:\n",
    "        self._init_stdev = init_stdev\n",
    "\n",
    "    def forward(self, x):\n",
    "\n",
    "        # Multiply x and the weight matrix:\n",
    "        dense = np.dot(x, self.weights)\n",
    "\n",
    "        return dense\n",
    "\n",
    "    def init_weights_and_state(self, input_signature, random_key):\n",
    "\n",
    "        # Set the shape of the weight matrix.\n",
    "        # Number of rows: number of columns of input_signature.\n",
    "        # Number of columns: number of units in this layer.\n",
    "        input_shape = (input_signature.shape[-1], self._n_units)\n",
    "\n",
    "        # Generate the weight matrix from a normal distribution:\n",
    "        w = self._init_stdev * random.normal(key=random_key, shape=input_shape)\n",
    "        self.weights = w\n",
    "\n",
    "        return self.weights"
   ]
  },
  {
   "cell_type": "code",
   "execution_count": null,
   "metadata": {},
   "outputs": [],
   "source": [
    "# Test the Dense layer:\n",
    "\n",
    "# Set the number of units:\n",
    "dense_layer = Dense(n_units=10)\n",
    "\n",
    "# Set the random seed:\n",
    "random_key = random.get_prng(seed=0)\n",
    "\n",
    "# Input:\n",
    "z = np.array([[2.0, 7.0, 25.0]])\n",
    "\n",
    "dense_layer.init(z, random_key)\n",
    "\n",
    "# Return the randomly generated weights:\n",
    "print('Weights:')\n",
    "print(dense_layer.weights)\n",
    "\n",
    "# Print the output of the Dense layer:\n",
    "print('Forward function output:')\n",
    "print(dense_layer(z))"
   ]
  },
  {
   "cell_type": "markdown",
   "metadata": {},
   "source": [
    "##### Expected Outout"
   ]
  },
  {
   "cell_type": "code",
   "execution_count": null,
   "metadata": {
    "attributes": {
     "classes": [
      "CPP"
     ],
     "id": ""
    }
   },
   "outputs": [],
   "source": [
    "Weights are\n",
    "  [[-0.02837108  0.09368162 -0.10050076  0.14165013  0.10543301  0.09108126\n",
    "  -0.04265672  0.0986188  -0.05575325  0.00153249]\n",
    " [-0.20785688  0.0554837   0.09142365  0.05744595  0.07227863  0.01210617\n",
    "  -0.03237354  0.16234995  0.02450038 -0.13809784]\n",
    " [-0.06111237  0.01403724  0.08410042 -0.1094358  -0.10775021 -0.11396459\n",
    "  -0.05933381 -0.01557652 -0.03832145 -0.11144515]]\n",
    "Foward function output is  [[-3.0395496   0.9266802   2.5414743  -2.050473\n",
    "-1.9769388  -2.582209\n",
    "  -1.7952735   0.94427425 -0.8980402  -3.7497487 ]]"
   ]
  },
  {
   "cell_type": "markdown",
   "metadata": {},
   "source": [
    "<a name=\"3.3\"></a>\n",
    "## 3.3  Model\n",
    "\n",
    "Now you will implement a classifier using neural networks. Here is the model\n",
    "architecture you will be implementing.\n",
    "\n",
    "<img src = \"nn.jpg\" style=\"width:400px;height:250px;\"/>\n",
    "\n",
    "For the model implementation, you will use the Trax layers library `tl`.\n",
    "Note that the second character of `tl` is the lowercase of letter `L`, not the\n",
    "number 1. Trax layers are very similar to the ones you implemented above,\n",
    "but in addition to trainable weights also have a non-trainable state.\n",
    "State is used in layers like batch normalization and for inference, you will\n",
    "learn more about it in course 4.\n",
    "\n",
    "First, look at the code of the Trax Dense layer and compare to your\n",
    "implementation above.\n",
    "-\n",
    "[tl.Dense](https://github.com/google/trax/blob/master/trax/layers/core.py#L29):\n",
    "Trax Dense layer implementation\n",
    "\n",
    "One other important layer that you will use a lot is one that allows to execute\n",
    "one layer after another in sequence.\n",
    "-\n",
    "[tl.Serial](https://github.com/google/trax/blob/master/trax/layers/combinators.py#L26):\n",
    "Combinator that applies layers serially.\n",
    "    - You can pass in the layers as arguments to `Serial`, separated by commas.\n",
    "    - For example: `tl.Serial(tl.Embeddings(...), tl.Mean(...), tl.Dense(...),\n",
    "tl.LogSoftmax(...))`\n",
    "\n",
    "Please use the `help` function to view documentation for each layer."
   ]
  },
  {
   "cell_type": "code",
   "execution_count": null,
   "metadata": {},
   "outputs": [],
   "source": [
    "# View documentation on tl.Dense:\n",
    "help(tl.Dense)"
   ]
  },
  {
   "cell_type": "code",
   "execution_count": null,
   "metadata": {},
   "outputs": [],
   "source": [
    "# View documentation on tl.Serial:\n",
    "help(tl.Serial)"
   ]
  },
  {
   "cell_type": "markdown",
   "metadata": {},
   "source": [
    "-\n",
    "[tl.Embedding](https://github.com/google/trax/blob/1372b903bb66b0daccee19fd0b1fdf44f659330b/trax/layers/core.py#L113):\n",
    "Layer constructor function for an embedding layer.\n",
    "    - `tl.Embedding(vocab_size, d_feature)`.\n",
    "    - `vocab_size` is the number of unique words in the given vocabulary.\n",
    "    - `d_feature` is the number of elements in the word embedding (some choices\n",
    "for a word embedding size range from 150 to 300, for example)."
   ]
  },
  {
   "cell_type": "code",
   "execution_count": null,
   "metadata": {},
   "outputs": [],
   "source": [
    "# View documentation on tl.Embedding:\n",
    "help(tl.Embedding)"
   ]
  },
  {
   "cell_type": "code",
   "execution_count": null,
   "metadata": {},
   "outputs": [],
   "source": [
    "tmp_embed = tl.Embedding(vocab_size=3, d_feature=2)\n",
    "display(tmp_embed)"
   ]
  },
  {
   "cell_type": "markdown",
   "metadata": {},
   "source": [
    "-\n",
    "[tl.Mean](https://github.com/google/trax/blob/1372b903bb66b0daccee19fd0b1fdf44f659330b/trax/layers/core.py#L276):\n",
    "Calculates means across an axis.  In this case, please choose axis = 1 to get an\n",
    "average embedding vector (an embedding vector that is an average of all words in\n",
    "the vocabulary).\n",
    "- For example, if the embedding matrix is 300 elements and vocab size is 10,000\n",
    "words, taking the mean of the embedding matrix along axis=1 will yield a vector\n",
    "of 300 elements."
   ]
  },
  {
   "cell_type": "code",
   "execution_count": null,
   "metadata": {},
   "outputs": [],
   "source": [
    "# View the documentation on tl.Mean:\n",
    "help(tl.Mean)"
   ]
  },
  {
   "cell_type": "code",
   "execution_count": null,
   "metadata": {},
   "outputs": [],
   "source": [
    "# Embedding dimensions: 2.\n",
    "# Vocabulary size: 3.\n",
    "# Shape of the embedding matrix: (2, 3).\n",
    "tmp_embed = np.array([\n",
    "    [1, 2, 3],\n",
    "    [4, 5, 6]\n",
    "])\n",
    "\n",
    "# Compute the mean along axis 0:\n",
    "print('The mean along axis 0 creates a vector whose length equals the vocabulary size.')\n",
    "display(np.mean(tmp_embed, axis=0))\n",
    "\n",
    "# Compute the mean along axis 1:\n",
    "print('The mean along axis 1 creates a vector whose length equals the number of embedding dimensions.')\n",
    "display(np.mean(tmp_embed, axis=1))"
   ]
  },
  {
   "cell_type": "markdown",
   "metadata": {},
   "source": [
    "-\n",
    "[tl.LogSoftmax](https://github.com/google/trax/blob/1372b903bb66b0daccee19fd0b1fdf44f659330b/trax/layers/core.py#L242):\n",
    "Implements log softmax function\n",
    "- Here, you don't need to set any parameters for `LogSoftMax()`."
   ]
  },
  {
   "cell_type": "code",
   "execution_count": null,
   "metadata": {},
   "outputs": [],
   "source": [
    "# View the documentation on tl.LogSoftmax:\n",
    "help(tl.LogSoftmax)"
   ]
  },
  {
   "cell_type": "markdown",
   "metadata": {},
   "source": [
    "**Online documentation**\n",
    "\n",
    "- [tl.Dense](https://trax-\n",
    "ml.readthedocs.io/en/latest/trax.layers.html#trax.layers.core.Dense)\n",
    "\n",
    "- [tl.Serial](https://trax-ml.readthedocs.io/en/latest/trax.layers.html#module-\n",
    "trax.layers.combinators)\n",
    "\n",
    "- [tl.Embedding](https://trax-\n",
    "ml.readthedocs.io/en/latest/trax.layers.html#trax.layers.core.Embedding)\n",
    "\n",
    "- [tl.Mean](https://trax-\n",
    "ml.readthedocs.io/en/latest/trax.layers.html#trax.layers.core.Mean)\n",
    "\n",
    "- [tl.LogSoftmax](https://trax-\n",
    "ml.readthedocs.io/en/latest/trax.layers.html#trax.layers.core.LogSoftmax)\n",
    "\n",
    "<a name=\"ex05\"></a>\n",
    "### Exercise 05\n",
    "Implement the classifier function."
   ]
  },
  {
   "cell_type": "code",
   "execution_count": null,
   "metadata": {},
   "outputs": [],
   "source": [
    "# UNQ_C5 (UNIQUE CELL IDENTIFIER, DO NOT EDIT)\n",
    "# GRADED FUNCTION: classifier\n",
    "def classifier(vocab_size=len(Vocab), embedding_dim=256, output_dim=2, mode='train'):\n",
    "\n",
    "    # Create the Embedding layer:\n",
    "    embed_layer = tl.Embedding(\n",
    "        # Vocabulary size:\n",
    "        vocab_size=vocab_size,\n",
    "        # Embedding dimensions:\n",
    "        d_feature=embedding_dim\n",
    "    )\n",
    "\n",
    "    # Create a Mean layer to compute an average word embedding:\n",
    "    mean_layer = tl.Mean(axis=1)\n",
    "\n",
    "    # Create a Dense layer with one unit for each output:\n",
    "    dense_output_layer = tl.Dense(n_units=output_dim)\n",
    "\n",
    "    # Create the LogSoftmax layer:\n",
    "    log_softmax_layer = tl.LogSoftmax()\n",
    "\n",
    "    # Use tl.Serial to combine all layers and create the classifier.\n",
    "    # Type: trax.layers.combinators.Serial.\n",
    "    model = tl.Serial(\n",
    "        # Embedding layer:\n",
    "        embed_layer,\n",
    "        # Mean layer:\n",
    "        mean_layer,\n",
    "        # Dense output layer:\n",
    "        dense_output_layer,\n",
    "        # LogSoftmax layer:\n",
    "        log_softmax_layer\n",
    "    )\n",
    "\n",
    "    # Return the model:\n",
    "    return model"
   ]
  },
  {
   "cell_type": "code",
   "execution_count": null,
   "metadata": {},
   "outputs": [],
   "source": [
    "tmp_model = classifier()"
   ]
  },
  {
   "cell_type": "code",
   "execution_count": null,
   "metadata": {},
   "outputs": [],
   "source": [
    "print(type(tmp_model))\n",
    "display(tmp_model)"
   ]
  },
  {
   "cell_type": "markdown",
   "metadata": {},
   "source": [
    "##### Expected Outout"
   ]
  },
  {
   "cell_type": "code",
   "execution_count": null,
   "metadata": {
    "attributes": {
     "classes": [
      "CPP"
     ],
     "id": ""
    }
   },
   "outputs": [],
   "source": [
    "<class 'trax.layers.combinators.Serial'>\n",
    "Serial[\n",
    "  Embedding_9088_256\n",
    "  Mean\n",
    "  Dense_2\n",
    "  LogSoftmax\n",
    "]"
   ]
  },
  {
   "cell_type": "markdown",
   "metadata": {},
   "source": [
    "<a name=\"4\"></a>\n",
    "# Part 4:  Training\n",
    "\n",
    "To train a model on a task, Trax defines an abstraction\n",
    "[`trax.supervised.training.TrainTask`](https://trax-\n",
    "ml.readthedocs.io/en/latest/trax.supervised.html#trax.supervised.training.TrainTask)\n",
    "which packages the train data, loss and optimizer (among other things) together\n",
    "into an object.\n",
    "\n",
    "Similarly to evaluate a model, Trax defines an abstraction\n",
    "[`trax.supervised.training.EvalTask`](https://trax-\n",
    "ml.readthedocs.io/en/latest/trax.supervised.html#trax.supervised.training.EvalTask)\n",
    "which packages the eval data and metrics (among other things) into another\n",
    "object.\n",
    "\n",
    "The final piece tying things together is the\n",
    "[`trax.supervised.training.Loop`](https://trax-\n",
    "ml.readthedocs.io/en/latest/trax.supervised.html#trax.supervised.training.Loop)\n",
    "abstraction that is a very simple and flexible way to put everything together\n",
    "and train the model, all the while evaluating it and saving checkpoints.\n",
    "Using `Loop` will save you a lot of code compared to always writing the training\n",
    "loop by hand, like you did in courses 1 and 2. More importantly, you are less\n",
    "likely to have a bug in that code that would ruin your training."
   ]
  },
  {
   "cell_type": "code",
   "execution_count": null,
   "metadata": {},
   "outputs": [],
   "source": [
    "# View documentation for trax.supervised.training.TrainTask:\n",
    "help(trax.supervised.training.TrainTask)"
   ]
  },
  {
   "cell_type": "code",
   "execution_count": null,
   "metadata": {},
   "outputs": [],
   "source": [
    "# View documentation for trax.supervised.training.EvalTask:\n",
    "help(trax.supervised.training.EvalTask)"
   ]
  },
  {
   "cell_type": "code",
   "execution_count": null,
   "metadata": {},
   "outputs": [],
   "source": [
    "# View documentation for trax.supervised.training.Loop:\n",
    "help(trax.supervised.training.Loop)"
   ]
  },
  {
   "cell_type": "code",
   "execution_count": null,
   "metadata": {},
   "outputs": [],
   "source": [
    "# View optimizers that you could choose from:\n",
    "help(trax.optimizers)"
   ]
  },
  {
   "cell_type": "markdown",
   "metadata": {},
   "source": [
    "Notice some available optimizers include:"
   ]
  },
  {
   "cell_type": "code",
   "execution_count": null,
   "metadata": {
    "attributes": {
     "classes": [
      "CPP"
     ],
     "id": ""
    }
   },
   "outputs": [],
   "source": [
    "    adafactor\n",
    "    adam\n",
    "    momentum\n",
    "    rms_prop\n",
    "    sm3"
   ]
  },
  {
   "cell_type": "markdown",
   "metadata": {},
   "source": [
    "<a name=\"4.1\"></a>\n",
    "## 4.1  Training the model\n",
    "\n",
    "Now you are going to train your model.\n",
    "\n",
    "Let's define the `TrainTask`, `EvalTask` and `Loop` in preparation to train the\n",
    "model."
   ]
  },
  {
   "cell_type": "code",
   "execution_count": null,
   "metadata": {},
   "outputs": [],
   "source": [
    "from trax.supervised import training\n",
    "\n",
    "batch_size = 16\n",
    "rnd.seed(271)\n",
    "\n",
    "train_task = training.TrainTask(\n",
    "    labeled_data=train_generator(batch_size=batch_size, shuffle=True),\n",
    "    loss_layer=tl.CrossEntropyLoss(),\n",
    "    optimizer=trax.optimizers.Adam(0.01),\n",
    "    n_steps_per_checkpoint=10\n",
    ")\n",
    "\n",
    "eval_task = training.EvalTask(\n",
    "    labeled_data=val_generator(batch_size=batch_size, shuffle=True),\n",
    "    metrics=[tl.CrossEntropyLoss(), tl.Accuracy()]\n",
    ")\n",
    "\n",
    "model = classifier()"
   ]
  },
  {
   "cell_type": "markdown",
   "metadata": {},
   "source": [
    "This defines a model trained using [`tl.CrossEntropyLoss`](https://trax-\n",
    "ml.readthedocs.io/en/latest/trax.layers.html#trax.layers.metrics.CrossEntropyLoss)\n",
    "optimized with the [`trax.optimizers.Adam`](https://trax-\n",
    "ml.readthedocs.io/en/latest/trax.optimizers.html#trax.optimizers.adam.Adam)\n",
    "optimizer, all the while tracking the accuracy using\n",
    "[`tl.Accuracy`](https://trax-\n",
    "ml.readthedocs.io/en/latest/trax.layers.html#trax.layers.metrics.Accuracy)\n",
    "metric. We also track `tl.CrossEntropyLoss` on the validation set.\n",
    "\n",
    "Now let's make an output directory and train the model."
   ]
  },
  {
   "cell_type": "code",
   "execution_count": null,
   "metadata": {},
   "outputs": [],
   "source": [
    "output_dir = '~/model/'\n",
    "output_dir_expand = os.path.expanduser(output_dir)\n",
    "print(output_dir_expand)"
   ]
  },
  {
   "cell_type": "markdown",
   "metadata": {},
   "source": [
    "<a name=\"ex06\"></a>\n",
    "### Exercise 06\n",
    "**Instructions:** Implement `train_model` to train the model (`classifier` that\n",
    "you wrote earlier) for the given number of training steps (`n_steps`) using\n",
    "`TrainTask`, `EvalTask` and `Loop`."
   ]
  },
  {
   "cell_type": "code",
   "execution_count": null,
   "metadata": {},
   "outputs": [],
   "source": [
    "# UNQ_C6 (UNIQUE CELL IDENTIFIER, DO NOT EDIT)\n",
    "# GRADED FUNCTION: train_model\n",
    "def train_model(classifier, train_task, eval_task, n_steps, output_dir):\n",
    "    \"\"\"\n",
    "    Arguments:\n",
    "    classifier: Learning model.\n",
    "    train_task: Training task.\n",
    "    eval_task: Evaluation task.\n",
    "    n_steps: Number of evaluation steps.\n",
    "    output_dir: Output directory.\n",
    "\n",
    "    Returns:\n",
    "    training_loop: Trax training Loop.\n",
    "    \"\"\"\n",
    "\n",
    "    training_loop = training.Loop(\n",
    "        # Learning model:\n",
    "        classifier,\n",
    "        # Training task:\n",
    "        train_task,\n",
    "        # Evaluation task:\n",
    "        eval_task=eval_task,\n",
    "        # Output directory:\n",
    "        output_dir=output_dir\n",
    "    )\n",
    "\n",
    "    training_loop.run(n_steps=n_steps)\n",
    "\n",
    "    return training_loop"
   ]
  },
  {
   "cell_type": "code",
   "execution_count": null,
   "metadata": {},
   "outputs": [],
   "source": [
    "training_loop = train_model(model, train_task, eval_task, 100, output_dir_expand)"
   ]
  },
  {
   "cell_type": "markdown",
   "metadata": {},
   "source": [
    "##### Expected output (Approximately)"
   ]
  },
  {
   "cell_type": "code",
   "execution_count": null,
   "metadata": {
    "attributes": {
     "classes": [
      "CPP"
     ],
     "id": ""
    }
   },
   "outputs": [],
   "source": [
    "Step      1: train CrossEntropyLoss |  0.88939196\n",
    "Step      1: eval  CrossEntropyLoss |  0.68833977\n",
    "Step      1: eval          Accuracy |  0.50000000\n",
    "Step     10: train CrossEntropyLoss |  0.61036736\n",
    "Step     10: eval  CrossEntropyLoss |  0.52182281\n",
    "Step     10: eval          Accuracy |  0.68750000\n",
    "Step     20: train CrossEntropyLoss |  0.34137666\n",
    "Step     20: eval  CrossEntropyLoss |  0.20654774\n",
    "Step     20: eval          Accuracy |  1.00000000\n",
    "Step     30: train CrossEntropyLoss |  0.20208922\n",
    "Step     30: eval  CrossEntropyLoss |  0.21594886\n",
    "Step     30: eval          Accuracy |  0.93750000\n",
    "Step     40: train CrossEntropyLoss |  0.19611198\n",
    "Step     40: eval  CrossEntropyLoss |  0.17582777\n",
    "Step     40: eval          Accuracy |  1.00000000\n",
    "Step     50: train CrossEntropyLoss |  0.11203773\n",
    "Step     50: eval  CrossEntropyLoss |  0.07589275\n",
    "Step     50: eval          Accuracy |  1.00000000\n",
    "Step     60: train CrossEntropyLoss |  0.09375446\n",
    "Step     60: eval  CrossEntropyLoss |  0.09290724\n",
    "Step     60: eval          Accuracy |  1.00000000\n",
    "Step     70: train CrossEntropyLoss |  0.08785903\n",
    "Step     70: eval  CrossEntropyLoss |  0.09610598\n",
    "Step     70: eval          Accuracy |  1.00000000\n",
    "Step     80: train CrossEntropyLoss |  0.08858261\n",
    "Step     80: eval  CrossEntropyLoss |  0.02319432\n",
    "Step     80: eval          Accuracy |  1.00000000\n",
    "Step     90: train CrossEntropyLoss |  0.05699894\n",
    "Step     90: eval  CrossEntropyLoss |  0.01778970\n",
    "Step     90: eval          Accuracy |  1.00000000\n",
    "Step    100: train CrossEntropyLoss |  0.03663783\n",
    "Step    100: eval  CrossEntropyLoss |  0.00210550\n",
    "Step    100: eval          Accuracy |  1.00000000"
   ]
  },
  {
   "cell_type": "markdown",
   "metadata": {},
   "source": [
    "<a name=\"4.2\"></a>\n",
    "## 4.2  Practice Making a prediction\n",
    "\n",
    "Now that you have trained a model, you can access it as `training_loop.model`\n",
    "object. We will actually use `training_loop.eval_model` and in the next weeks\n",
    "you will learn why we sometimes use a different model for evaluation, e.g., one\n",
    "without dropout. For now, make predictions with your model.\n",
    "\n",
    "Use the training data just to see how the prediction process works.\n",
    "- Later, you will use validation data to evaluate your model's performance."
   ]
  },
  {
   "cell_type": "code",
   "execution_count": null,
   "metadata": {},
   "outputs": [],
   "source": [
    "# Create a generator:\n",
    "tmp_train_generator = train_generator(16)\n",
    "\n",
    "# Get one batch.\n",
    "# Position 0 has the model inputs (tweets as tensors).\n",
    "# Position 1 has the targets.\n",
    "tmp_batch = next(tmp_train_generator)\n",
    "tmp_inputs, tmp_targets, tmp_example_weights = tmp_batch\n",
    "\n",
    "print(f'The batch is a tuple of length {len(tmp_batch)}, because position 0 contains the tweets, and position 1 contains the targets.')\n",
    "print(f'The shape of the tweet tensors is {tmp_inputs.shape} (number of examples, length of tweet tensors).')\n",
    "print(f'The shape of the labels is {tmp_targets.shape}, which is the batch size.')\n",
    "print(f'The shape of example_weights is {tmp_example_weights.shape}, which is the same as the inputs/targets size.')"
   ]
  },
  {
   "cell_type": "code",
   "execution_count": null,
   "metadata": {},
   "outputs": [],
   "source": [
    "# Feed the tweet tensors into the model to get a prediction:\n",
    "tmp_pred = training_loop.eval_model(tmp_inputs)\n",
    "print(f'The prediction shape is {tmp_pred.shape}. Number of tweet tensors = number of rows.')\n",
    "print('Column 0 is the probability of a negative sentiment (class 0).')\n",
    "print('Column 1 is the probability of a positive sentiment (class 1).')\n",
    "print()\n",
    "print('View the prediction array:')\n",
    "tmp_pred"
   ]
  },
  {
   "cell_type": "markdown",
   "metadata": {},
   "source": [
    "To turn these probabilities into categories (negative or positive sentiment\n",
    "prediction), for each row:\n",
    "- Compare the probabilities in each column.\n",
    "- If column 1 has a value greater than column 0, classify that as a positive\n",
    "tweet.\n",
    "- Otherwise if column 1 is less than or equal to column 0, classify that example\n",
    "as a negative tweet."
   ]
  },
  {
   "cell_type": "code",
   "execution_count": null,
   "metadata": {},
   "outputs": [],
   "source": [
    "# Turn probabilites into category predictions:\n",
    "tmp_is_positive = tmp_pred[:, 1] > tmp_pred[:, 0]\n",
    "for i, p in enumerate(tmp_is_positive):\n",
    "    print(\n",
    "        f'neg log prob: {tmp_pred[i, 0]:.4f}\\t' +\n",
    "        f'pos log prob: {tmp_pred[i, 1]:.4f}\\t' +\n",
    "        f'is positive? {p}\\t' +\n",
    "        f'actual: {tmp_targets[i]}'\n",
    "    )"
   ]
  },
  {
   "cell_type": "markdown",
   "metadata": {},
   "source": [
    "Notice that since you are making a prediction using a training batch, it's more\n",
    "likely that the model's predictions match the actual targets (labels).\n",
    "- Every prediction that the tweet is positive is also matching the actual target\n",
    "of 1 (positive sentiment).\n",
    "- Similarly, all predictions that the sentiment is not positive matches the\n",
    "actual target of 0 (negative sentiment)\n",
    "\n",
    "One more useful thing to know is how to compare if the prediction is matching\n",
    "the actual target (label).\n",
    "- The result of calculation `is_positive` is a boolean.\n",
    "- The target is a type trax.fastmath.numpy.int32\n",
    "- If you expect to be doing division, you may prefer to work with decimal\n",
    "numbers with the data type type trax.fastmath.numpy.int32"
   ]
  },
  {
   "cell_type": "code",
   "execution_count": null,
   "metadata": {},
   "outputs": [],
   "source": [
    "# View the array of booleans:\n",
    "print('Array of booleans:')\n",
    "display(tmp_is_positive)\n",
    "\n",
    "# Convert booleans to type int32.\n",
    "# True is converted to 1.\n",
    "# False is converted to 0.\n",
    "tmp_is_positive_int = tmp_is_positive.astype(np.int32)\n",
    "\n",
    "# View the array of integers:\n",
    "print('Array of integers:')\n",
    "display(tmp_is_positive_int)\n",
    "\n",
    "# Convert booleans to type float32:\n",
    "tmp_is_positive_float = tmp_is_positive.astype(np.float32)\n",
    "\n",
    "# View the array of floats:\n",
    "print('Array of floats:')\n",
    "display(tmp_is_positive_float)"
   ]
  },
  {
   "cell_type": "code",
   "execution_count": null,
   "metadata": {},
   "outputs": [],
   "source": [
    "tmp_pred.shape"
   ]
  },
  {
   "cell_type": "markdown",
   "metadata": {},
   "source": [
    "Note that Python usually does type conversion for you when you compare a boolean\n",
    "to an integer\n",
    "- True compared to 1 is True, otherwise any other integer is False.\n",
    "- False compared to 0 is True, otherwise any ohter integer is False."
   ]
  },
  {
   "cell_type": "code",
   "execution_count": null,
   "metadata": {},
   "outputs": [],
   "source": [
    "print(f'True == 1: {True == 1}')\n",
    "print(f'True == 2: {True == 2}')\n",
    "print(f'False == 0: {False == 0}')\n",
    "print(f'False == 2: {False == 2}')"
   ]
  },
  {
   "cell_type": "markdown",
   "metadata": {},
   "source": [
    "However, we recommend that you keep track of the data type of your variables to\n",
    "avoid unexpected outcomes.  So it helps to convert the booleans into integers\n",
    "- Compare 1 to 1 rather than comparing True to 1.\n",
    "\n",
    "Hopefully you are now familiar with what kinds of inputs and outputs the model\n",
    "uses when making a prediction.\n",
    "- This will help you implement a function that estimates the accuracy of the\n",
    "model's predictions.\n",
    "\n",
    "<a name=\"5\"></a>\n",
    "# Part 5:  Evaluation\n",
    "\n",
    "<a name=\"5.1\"></a>\n",
    "## 5.1  Computing the accuracy on a batch\n",
    "\n",
    "You will now write a function that evaluates your model on the validation set\n",
    "and returns the accuracy.\n",
    "- `preds` contains the predictions.\n",
    "    - Its dimensions are `(batch_size, output_dim)`.  `output_dim` is two in\n",
    "this case.  Column 0 contains the probability that the tweet belongs to class 0\n",
    "(negative sentiment). Column 1 contains probability that it belongs to class 1\n",
    "(positive sentiment).\n",
    "    - If the probability in column 1 is greater than the probability in column\n",
    "0, then interpret this as the model's prediction that the example has label 1\n",
    "(positive sentiment).\n",
    "    - Otherwise, if the probabilities are equal or the probability in column 0\n",
    "is higher, the model's prediction is 0 (negative sentiment).\n",
    "- `y` contains the actual labels.\n",
    "- `y_weights` contains the weights to give to predictions.\n",
    "\n",
    "<a name=\"ex07\"></a>\n",
    "### Exercise 07\n",
    "Implement `compute_accuracy`."
   ]
  },
  {
   "cell_type": "code",
   "execution_count": null,
   "metadata": {},
   "outputs": [],
   "source": [
    "# UNQ_C7 (UNIQUE CELL IDENTIFIER, DO NOT EDIT)\n",
    "# GRADED FUNCTION: compute_accuracy\n",
    "def compute_accuracy(preds, y, y_weights):\n",
    "    \"\"\"\n",
    "    Arguments:\n",
    "    preds: Predictions. Shape: (batch_size, output_dim).\n",
    "    y: True labels. Shape: (batch_size, output_dim).\n",
    "    y_weights: Array with a weight for each example.\n",
    "\n",
    "    Returns:\n",
    "    accuracy: Prediction accuracy. Float between 0 and 1.\n",
    "    weighted_num_correct: Sum of the weighted correct predictions. Type: np.float32.\n",
    "    sum_weights: Sum of the weights. Type: np.float32.\n",
    "    \"\"\"\n",
    "\n",
    "    # Create an array of booleans.\n",
    "    # True if the probability of positive sentiment is greater than the\n",
    "    # probability of negative sentiment. False otherwise.\n",
    "    is_pos = preds[:, 1] > preds[:, 0]\n",
    "\n",
    "    # Convert the array of booleans into an array of np.int32:\n",
    "    is_pos_int = is_pos.astype(np.int32)\n",
    "\n",
    "    # Compare the array of predictions to the labels:\n",
    "    correct = (is_pos_int == y)\n",
    "\n",
    "    # Convert the array of correct predictions into an array of np.float32:\n",
    "    correct_float = correct.astype(np.float32)\n",
    "\n",
    "    # Sum of the weights:\n",
    "    sum_weights = np.sum(y_weights, dtype=np.float32)\n",
    "\n",
    "    # Multiply each prediction and its weight:\n",
    "    weighted_correct_float = correct_float * y_weights\n",
    "\n",
    "    # Weighted sum of the correct predictions:\n",
    "    weighted_num_correct = np.sum(weighted_correct_float, dtype=np.float32)\n",
    "\n",
    "    # Divide weighted_num_correct by sum_weights to compute the accuracy:\n",
    "    accuracy = weighted_num_correct / sum_weights\n",
    "\n",
    "    return accuracy, weighted_num_correct, sum_weights"
   ]
  },
  {
   "cell_type": "code",
   "execution_count": null,
   "metadata": {},
   "outputs": [],
   "source": [
    "# Test the function:\n",
    "tmp_val_generator = val_generator(64)\n",
    "tmp_batch = next(tmp_val_generator)\n",
    "tmp_inputs, tmp_targets, tmp_example_weights = tmp_batch\n",
    "tmp_pred = training_loop.eval_model(tmp_inputs)\n",
    "tmp_acc, tmp_num_correct, tmp_num_predictions = compute_accuracy(\n",
    "    preds=tmp_pred,\n",
    "    y=tmp_targets,\n",
    "    y_weights=tmp_example_weights\n",
    ")\n",
    "print(f\"Model's prediction accuracy on a single training batch: {100 * tmp_acc}%\")\n",
    "print(f'Weighted number of correct predictions: {tmp_num_correct}')\n",
    "print(f'Sum of the weights (number of predictions): {tmp_num_predictions}')"
   ]
  },
  {
   "cell_type": "markdown",
   "metadata": {},
   "source": [
    "##### Expected output (Approximately)"
   ]
  },
  {
   "cell_type": "code",
   "execution_count": null,
   "metadata": {},
   "outputs": [],
   "source": [
    "Model's prediction accuracy on a single training batch is: 100.0%\n",
    "Weighted number of correct predictions 64.0; weighted number of total\n",
    "observations predicted 64"
   ]
  },
  {
   "cell_type": "markdown",
   "metadata": {},
   "source": [
    "<a name=\"5.2\"></a>\n",
    "## 5.2  Testing your model on Validation Data\n",
    "\n",
    "Now you will write test your model's prediction accuracy on validation data.\n",
    "\n",
    "This program will take in a data generator and your model.\n",
    "- The generator allows you to get batches of data. You can use it with a `for`\n",
    "loop:"
   ]
  },
  {
   "cell_type": "code",
   "execution_count": null,
   "metadata": {},
   "outputs": [],
   "source": [
    "for batch in iterator:\n",
    "   # do something with that batch"
   ]
  },
  {
   "cell_type": "markdown",
   "metadata": {},
   "source": [
    "`batch` has dimensions `(X, Y, weights)`.\n",
    "- Column 0 corresponds to the tweet as a tensor (input).\n",
    "- Column 1 corresponds to its target (actual label, positive or negative\n",
    "sentiment).\n",
    "- Column 2 corresponds to the weights associated (example weights)\n",
    "- You can feed the tweet into model and it will return the predictions for the\n",
    "batch.\n",
    "\n",
    "<a name=\"ex08\"></a>\n",
    "### Exercise 08\n",
    "\n",
    "**Instructions:**\n",
    "- Compute the accuracy over all the batches in the validation iterator.\n",
    "- Make use of `compute_accuracy`, which you recently implemented, and return the\n",
    "overall accuracy."
   ]
  },
  {
   "cell_type": "code",
   "execution_count": null,
   "metadata": {},
   "outputs": [],
   "source": [
    "# UNQ_C8 (UNIQUE CELL IDENTIFIER, DO NOT EDIT)\n",
    "# GRADED FUNCTION: test_model\n",
    "def test_model(generator, model):\n",
    "    \"\"\"\n",
    "    Arguments:\n",
    "    generator: Iterator instance that provides batches of inputs and targets.\n",
    "    model: Model instance.\n",
    "\n",
    "    Returns:\n",
    "    accuracy: Float corresponding to the overall accuracy.\n",
    "    \"\"\"\n",
    "\n",
    "    accuracy = 0.\n",
    "    total_num_correct = 0\n",
    "    total_num_pred = 0\n",
    "\n",
    "    for batch in generator:\n",
    "\n",
    "        # Retrieve the inputs from the batch:\n",
    "        inputs = batch[0]\n",
    "\n",
    "        # Retrieve the targets from the batch:\n",
    "        targets = batch[1]\n",
    "\n",
    "        # Retrieve the example weights:\n",
    "        example_weight = batch[2]\n",
    "\n",
    "        # Make predictions using the inputs:\n",
    "        pred = model(inputs)\n",
    "\n",
    "        # Calculate the accuracy for the batch:\n",
    "        batch_accuracy, batch_num_correct, batch_num_pred = compute_accuracy(\n",
    "            pred, targets, example_weight\n",
    "        )\n",
    "\n",
    "        # Update the total number of correct predictions:\n",
    "        total_num_correct += batch_num_correct\n",
    "\n",
    "        # Update the total number of predictions:\n",
    "        total_num_pred += batch_num_pred\n",
    "\n",
    "    # Calculate the overall accuracy:\n",
    "    accuracy = total_num_correct / total_num_pred\n",
    "\n",
    "    return accuracy"
   ]
  },
  {
   "cell_type": "code",
   "execution_count": null,
   "metadata": {},
   "outputs": [],
   "source": [
    "# DO NOT EDIT THIS CELL\n",
    "# Test the accuracy of the model. This takes around 20 seconds.\n",
    "model = training_loop.eval_model\n",
    "accuracy = test_model(test_generator(16), model)\n",
    "print(f'The accuracy of your model on the validation set is {accuracy:.4f}')"
   ]
  },
  {
   "cell_type": "markdown",
   "metadata": {},
   "source": [
    "##### Expected Output (Approximately)"
   ]
  },
  {
   "cell_type": "code",
   "execution_count": null,
   "metadata": {
    "attributes": {
     "classes": [
      "CPP"
     ],
     "id": ""
    }
   },
   "outputs": [],
   "source": [
    "The accuracy of your model on the validation set is 0.9931"
   ]
  },
  {
   "cell_type": "markdown",
   "metadata": {},
   "source": [
    "<a name=\"6\"></a>\n",
    "# Part 6:  Testing with your own input\n",
    "\n",
    "Finally you will test with your own input. You will see that deepnets are more\n",
    "powerful than the older methods you have used before. Although you go close to\n",
    "100% accuracy on the first two assignments, the task was way easier."
   ]
  },
  {
   "cell_type": "code",
   "execution_count": null,
   "metadata": {},
   "outputs": [],
   "source": [
    "# this is used to predict on your own sentnece\n",
    "def predict(sentence):\n",
    "    inputs = np.array(tweet_to_tensor(sentence, vocab_dict=Vocab))\n",
    "\n",
    "    # Batch size 1, add dimension for batch, to work with the model\n",
    "    inputs = inputs[None, :]\n",
    "\n",
    "    # predict with the model\n",
    "    preds_probs = model(inputs)\n",
    "\n",
    "    # Turn probabilities into categories\n",
    "    preds = int(preds_probs[0, 1] > preds_probs[0, 0])\n",
    "\n",
    "    sentiment = \"negative\"\n",
    "    if preds == 1:\n",
    "        sentiment = 'positive'\n",
    "\n",
    "    return preds, sentiment\n"
   ]
  },
  {
   "cell_type": "code",
   "execution_count": null,
   "metadata": {},
   "outputs": [],
   "source": [
    "# try a positive sentence\n",
    "sentence = \"It's such a nice day, think i'll be taking Sid to Ramsgate fish and chips for lunch at Peter's fish factory and then the beach maybe\"\n",
    "tmp_pred, tmp_sentiment = predict(sentence)\n",
    "print(f\"The sentiment of the sentence \\n***\\n\\\"{sentence}\\\"\\n***\\nis {tmp_sentiment}.\")\n",
    "\n",
    "print()\n",
    "# try a negative sentence\n",
    "sentence = \"I hated my day, it was the worst, I'm so sad.\"\n",
    "tmp_pred, tmp_sentiment = predict(sentence)\n",
    "print(f\"The sentiment of the sentence \\n***\\n\\\"{sentence}\\\"\\n***\\nis {tmp_sentiment}.\")"
   ]
  },
  {
   "cell_type": "markdown",
   "metadata": {},
   "source": [
    "Notice that the model works well even for complex sentences.\n",
    "\n",
    "### On Deep Nets\n",
    "\n",
    "Deep nets allow you to understand and capture dependencies that you would have\n",
    "not been able to capture with a simple linear regression, or logistic\n",
    "regression.\n",
    "- It also allows you to better use pre-trained embeddings for classification and\n",
    "tends to generalize better."
   ]
  }
 ],
 "metadata": {},
 "nbformat": 4,
 "nbformat_minor": 4
}
